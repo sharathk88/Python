{
 "cells": [
  {
   "cell_type": "code",
   "execution_count": 80,
   "metadata": {},
   "outputs": [],
   "source": [
    "def verify(isbn):\n",
    "    isbn=isbn.replace(\"-\",\"\")\n",
    "    sum=0\n",
    "    counter=10\n",
    "    if(len(isbn) == 10):\n",
    "        for i in range(len(isbn)):\n",
    "            for j in range(len(isbn)-1):\n",
    "                if(isbn[j]=='X' or isbn[j]=='A' ):\n",
    "                    sum = 12\n",
    "            if(isbn[i]=='A'):\n",
    "                sum = 12\n",
    "            elif(isbn[i]=='K'):\n",
    "                sum = 12\n",
    "            elif(isbn[9]=='X'):\n",
    "                sum=sum+(10*counter)\n",
    "            else:\n",
    "                sum=sum+int(isbn[i])*counter\n",
    "            counter -=1\n",
    "    else:\n",
    "        print(\"String is too long\")\n",
    "        return False\n",
    "    print(sum)\n",
    "    if(sum % 11 ==0):\n",
    "        return True\n",
    "    elif(sum % 11 !=0):\n",
    "        return False\n",
    "    "
   ]
  },
  {
   "cell_type": "code",
   "execution_count": 60,
   "metadata": {},
   "outputs": [
    {
     "name": "stdout",
     "output_type": "stream",
     "text": [
      "264\n"
     ]
    },
    {
     "data": {
      "text/plain": [
       "True"
      ]
     },
     "execution_count": 60,
     "metadata": {},
     "output_type": "execute_result"
    }
   ],
   "source": [
    "verify('3598215088')"
   ]
  },
  {
   "cell_type": "code",
   "execution_count": 81,
   "metadata": {},
   "outputs": [
    {
     "name": "stdout",
     "output_type": "stream",
     "text": [
      "550\n"
     ]
    },
    {
     "data": {
      "text/plain": [
       "True"
      ]
     },
     "execution_count": 81,
     "metadata": {},
     "output_type": "execute_result"
    }
   ],
   "source": [
    "verify('3-598-21515-X')"
   ]
  },
  {
   "cell_type": "code",
   "execution_count": null,
   "metadata": {},
   "outputs": [],
   "source": []
  }
 ],
 "metadata": {
  "kernelspec": {
   "display_name": "Python 3",
   "language": "python",
   "name": "python3"
  },
  "language_info": {
   "codemirror_mode": {
    "name": "ipython",
    "version": 3
   },
   "file_extension": ".py",
   "mimetype": "text/x-python",
   "name": "python",
   "nbconvert_exporter": "python",
   "pygments_lexer": "ipython3",
   "version": "3.6.4"
  }
 },
 "nbformat": 4,
 "nbformat_minor": 2
}
