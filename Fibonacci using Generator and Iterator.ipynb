{
 "cells": [
  {
   "cell_type": "code",
   "execution_count": 13,
   "metadata": {},
   "outputs": [
    {
     "name": "stdout",
     "output_type": "stream",
     "text": [
      "1\n",
      "2 3 4 "
     ]
    },
    {
     "ename": "SystemExit",
     "evalue": "",
     "output_type": "error",
     "traceback": [
      "An exception has occurred, use %tb to see the full traceback.\n",
      "\u001b[1;31mSystemExit\u001b[0m\n"
     ]
    },
    {
     "name": "stderr",
     "output_type": "stream",
     "text": [
      "C:\\Users\\skashetty\\AppData\\Local\\Continuum\\anaconda3\\lib\\site-packages\\IPython\\core\\interactiveshell.py:2918: UserWarning: To exit: use 'exit', 'quit', or Ctrl-D.\n",
      "  warn(\"To exit: use 'exit', 'quit', or Ctrl-D.\", stacklevel=1)\n"
     ]
    }
   ],
   "source": [
    "import sys\n",
    "\n",
    "list = [1,2,3,4]\n",
    "it = iter(list) # this builds an iterator object\n",
    "print (next(it)) \n",
    "#prints next available element in iterator\n",
    "#Iterator object can be traversed using regular for statement\n",
    "\n",
    "for x in it:\n",
    "   print (x, end=\" \")\n",
    "#or using next() function\n",
    "while True:\n",
    "   try:\n",
    "      print (next(it))\n",
    "   except StopIteration:\n",
    "      sys.exit() #you have to import sys module for this"
   ]
  },
  {
   "cell_type": "code",
   "execution_count": 17,
   "metadata": {},
   "outputs": [
    {
     "name": "stdout",
     "output_type": "stream",
     "text": [
      "0 1 1 2 3 5 "
     ]
    },
    {
     "name": "stderr",
     "output_type": "stream",
     "text": [
      "'usr' is not recognized as an internal or external command,\n",
      "operable program or batch file.\n"
     ]
    },
    {
     "ename": "SystemExit",
     "evalue": "",
     "output_type": "error",
     "traceback": [
      "An exception has occurred, use %tb to see the full traceback.\n",
      "\u001b[1;31mSystemExit\u001b[0m\n"
     ]
    },
    {
     "name": "stderr",
     "output_type": "stream",
     "text": [
      "C:\\Users\\skashetty\\AppData\\Local\\Continuum\\anaconda3\\lib\\site-packages\\IPython\\core\\interactiveshell.py:2918: UserWarning: To exit: use 'exit', 'quit', or Ctrl-D.\n",
      "  warn(\"To exit: use 'exit', 'quit', or Ctrl-D.\", stacklevel=1)\n"
     ]
    }
   ],
   "source": [
    "!usr/bin/python3\n",
    "import sys\n",
    "def fibonacci(n): #generator function\n",
    "   a, b, counter = 0, 1, 0\n",
    "   while True:\n",
    "      if (counter > n): \n",
    "         return\n",
    "      yield a\n",
    "      a, b = b, a + b\n",
    "      counter += 1\n",
    "f = fibonacci(5) #f is iterator object\n",
    "\n",
    "while True:\n",
    "   try:\n",
    "      print (next(f), end=\" \")\n",
    "   except StopIteration:\n",
    "      sys.exit()"
   ]
  }
 ],
 "metadata": {
  "kernelspec": {
   "display_name": "Python 3",
   "language": "python",
   "name": "python3"
  }
 },
 "nbformat": 4,
 "nbformat_minor": 2
}
