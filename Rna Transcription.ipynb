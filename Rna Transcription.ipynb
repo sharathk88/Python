{
 "cells": [
  {
   "cell_type": "code",
   "execution_count": 54,
   "metadata": {},
   "outputs": [],
   "source": [
    "def to_rna(dna_strand):\n",
    "    dna_strand=dna_strand.upper()\n",
    "    dna_strand=list(dna_strand)\n",
    "    for i in range(len(dna_strand)):\n",
    "        if(dna_strand[i]=='G'):\n",
    "            dna_strand[i]='C'\n",
    "        elif(dna_strand[i]=='C'):\n",
    "            dna_strand[i]='G'\n",
    "        elif(dna_strand[i]=='T'):\n",
    "            dna_strand[i]='A'\n",
    "        elif(dna_strand[i]=='A'):\n",
    "            dna_strand[i]='U'\n",
    "        else:\n",
    "            print(\"Please input a valid DNA Strand\")\n",
    "    return \"\".join(dna_strand)"
   ]
  },
  {
   "cell_type": "code",
   "execution_count": 55,
   "metadata": {},
   "outputs": [
    {
     "data": {
      "text/plain": [
       "'UGCACCAGAAUU'"
      ]
     },
     "execution_count": 55,
     "metadata": {},
     "output_type": "execute_result"
    }
   ],
   "source": [
    "to_rna('ACGTGGTCTTAA')"
   ]
  },
  {
   "cell_type": "code",
   "execution_count": null,
   "metadata": {},
   "outputs": [],
   "source": [
    "def verify(isbn):\n",
    "    isbn=isbn.replace(\"-\",\"\")\n",
    "    #isbn=int(isbn)\n",
    "    #print(isbn)\n",
    "    sum=0\n",
    "    for i in range(len(isbn)):\n",
    "        print('i is',i)\n",
    "        j=10\n",
    "        while (j>=1):\n",
    "            print('j is',j)\n",
    "            Sum=int(isbn[i])*j\n",
    "        j=j-1\n",
    "    print(Sum)"
   ]
  },
  {
   "cell_type": "code",
   "execution_count": null,
   "metadata": {},
   "outputs": [],
   "source": [
    "verify('3-598-21508-8')"
   ]
  },
  {
   "cell_type": "code",
   "execution_count": null,
   "metadata": {},
   "outputs": [],
   "source": []
  }
 ],
 "metadata": {
  "kernelspec": {
   "display_name": "Python 3",
   "language": "python",
   "name": "python3"
  },
  "language_info": {
   "codemirror_mode": {
    "name": "ipython",
    "version": 3
   },
   "file_extension": ".py",
   "mimetype": "text/x-python",
   "name": "python",
   "nbconvert_exporter": "python",
   "pygments_lexer": "ipython3",
   "version": "3.6.4"
  }
 },
 "nbformat": 4,
 "nbformat_minor": 2
}
