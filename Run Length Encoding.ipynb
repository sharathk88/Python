{
 "cells": [
  {
   "cell_type": "code",
   "execution_count": 119,
   "metadata": {},
   "outputs": [],
   "source": [
    "def encode(string):\n",
    "    count = 0\n",
    "    dict = {}\n",
    "    dictlist = []\n",
    "    for i in range(len(string)):\n",
    "        dict[i]={string.count(string[i]):string[i]}\n",
    "        dictlist.append(dict[i])\n",
    "    print(dictlist)\n",
    "    dict\n",
    "\n"
   ]
  },
  {
   "cell_type": "code",
   "execution_count": 120,
   "metadata": {},
   "outputs": [
    {
     "name": "stdout",
     "output_type": "stream",
     "text": [
      "[{2: 'A'}, {2: 'A'}, {3: 'B'}, {3: 'B'}, {3: 'B'}, {4: 'C'}, {4: 'C'}, {4: 'C'}, {4: 'C'}]\n"
     ]
    }
   ],
   "source": [
    "encode('AABBBCCCC')"
   ]
  },
  {
   "cell_type": "code",
   "execution_count": 71,
   "metadata": {},
   "outputs": [],
   "source": [
    "def decode(string):\n",
    "    pass"
   ]
  },
  {
   "cell_type": "code",
   "execution_count": 129,
   "metadata": {},
   "outputs": [],
   "source": [
    "def encode(string):\n",
    "    count = 0\n",
    "    concat = []\n",
    "    for i in range(len(string)):\n",
    "        #print(concat[i].append(str(string.count(string[i])) + string[i]))\n",
    "        concat.append(str(string.count(string[i]))+string[i])\n",
    "        \n",
    "    print(concat)\n",
    "    dict={}\n",
    "    dictlist=[]\n",
    "    for i in range(len(concat)):\n",
    "        dict[i]={concat.count(concat[i]):concat[i]}\n",
    "        dictlist.append(dict[i])\n",
    "    print(dictlist)\n",
    "    \n",
    "    \n",
    "    \n",
    "    #join1 = \"\".join(concat)\n",
    "    #print(join1)\n",
    "        "
   ]
  },
  {
   "cell_type": "code",
   "execution_count": 130,
   "metadata": {},
   "outputs": [
    {
     "name": "stdout",
     "output_type": "stream",
     "text": [
      "['2A', '2A', '3B', '3B', '3B', '4C', '4C', '4C', '4C']\n",
      "[{2: '2A'}, {2: '2A'}, {3: '3B'}, {3: '3B'}, {3: '3B'}, {4: '4C'}, {4: '4C'}, {4: '4C'}, {4: '4C'}]\n"
     ]
    }
   ],
   "source": [
    "encode('AABBBCCCC')"
   ]
  },
  {
   "cell_type": "code",
   "execution_count": 140,
   "metadata": {},
   "outputs": [],
   "source": [
    "def encode(string):\n",
    "    count = 0\n",
    "    concat = []\n",
    "    for i in range(len(string)):\n",
    "        #print(concat[i].append(str(string.count(string[i])) + string[i]))\n",
    "        concat.append(str(string.count(string[i]))+string[i])        \n",
    "    print(concat)\n",
    "    finallist=[]\n",
    "    for i in range(len(concat)):\n",
    "        for j in range(len(concat)):\n",
    "            if(concat[i]==concat[j]):\n",
    "                finallist.append(concat[i])\n",
    "            elif(concat[i]!=concat[j]):\n",
    "                finallist.append(concat[j])\n",
    "    print(finallist)\n",
    "    \n",
    "    #join1 = \"\".join(concat)\n",
    "    #print(join1)"
   ]
  },
  {
   "cell_type": "code",
   "execution_count": 141,
   "metadata": {},
   "outputs": [
    {
     "name": "stdout",
     "output_type": "stream",
     "text": [
      "['2A', '2A', '3B', '3B', '3B', '4C', '4C', '4C', '4C']\n",
      "['2A', '2A', '3B', '3B', '3B', '4C', '4C', '4C', '4C', '2A', '2A', '3B', '3B', '3B', '4C', '4C', '4C', '4C', '2A', '2A', '3B', '3B', '3B', '4C', '4C', '4C', '4C', '2A', '2A', '3B', '3B', '3B', '4C', '4C', '4C', '4C', '2A', '2A', '3B', '3B', '3B', '4C', '4C', '4C', '4C', '2A', '2A', '3B', '3B', '3B', '4C', '4C', '4C', '4C', '2A', '2A', '3B', '3B', '3B', '4C', '4C', '4C', '4C', '2A', '2A', '3B', '3B', '3B', '4C', '4C', '4C', '4C', '2A', '2A', '3B', '3B', '3B', '4C', '4C', '4C', '4C']\n"
     ]
    }
   ],
   "source": [
    "encode('AABBBCCCC')"
   ]
  },
  {
   "cell_type": "code",
   "execution_count": 146,
   "metadata": {},
   "outputs": [],
   "source": [
    "def encode(string):\n",
    "    count = 0\n",
    "    concat = []\n",
    "    for i in range(len(string)):\n",
    "        #print(concat[i].append(str(string.count(string[i])) + string[i]))\n",
    "        concat.append(str(string.count(string[i]))+string[i])        \n",
    "    print(concat)\n",
    "    finallist=[]\n",
    "    for i in range(len(concat)):\n",
    "        j=0\n",
    "        while (j<len(concat)):\n",
    "            if(concat[i]==concat[j]):\n",
    "                finallist.append(concat[i])\n",
    "            elif(concat[i]!=concat[j]):\n",
    "                finallist.append(concat[j])\n",
    "            j+=1   \n",
    "    print(finallist)\n",
    "    \n",
    "    #join1 = \"\".join(concat)\n",
    "    #print(join1)"
   ]
  },
  {
   "cell_type": "code",
   "execution_count": 154,
   "metadata": {},
   "outputs": [
    {
     "data": {
      "text/plain": [
       "'2A4B4C'"
      ]
     },
     "execution_count": 154,
     "metadata": {},
     "output_type": "execute_result"
    }
   ],
   "source": [
    "encode('AABBBBCCCC')"
   ]
  },
  {
   "cell_type": "code",
   "execution_count": 153,
   "metadata": {},
   "outputs": [],
   "source": [
    "def encode(input):\n",
    "    current = input[0]\n",
    "    count = 0\n",
    "    result = ''\n",
    "\n",
    "    for index, char in enumerate(input):\n",
    "        if current == char:\n",
    "            count += 1\n",
    "        else:\n",
    "            if count == 1:\n",
    "                result += current\n",
    "            else:\n",
    "                result += str(count) + current\n",
    "            current = char\n",
    "            count = 1\n",
    "\n",
    "    if count == 1:\n",
    "        result += current\n",
    "    else:\n",
    "        result += str(count) + current\n",
    "\n",
    "    return result\n"
   ]
  },
  {
   "cell_type": "code",
   "execution_count": 150,
   "metadata": {},
   "outputs": [
    {
     "data": {
      "text/plain": [
       "'AABBBCCCC'"
      ]
     },
     "execution_count": 150,
     "metadata": {},
     "output_type": "execute_result"
    }
   ],
   "source": [
    "decode('2A3B4C')"
   ]
  },
  {
   "cell_type": "code",
   "execution_count": null,
   "metadata": {},
   "outputs": [],
   "source": []
  }
 ],
 "metadata": {
  "kernelspec": {
   "display_name": "Python 3",
   "language": "python",
   "name": "python3"
  },
  "language_info": {
   "codemirror_mode": {
    "name": "ipython",
    "version": 3
   },
   "file_extension": ".py",
   "mimetype": "text/x-python",
   "name": "python",
   "nbconvert_exporter": "python",
   "pygments_lexer": "ipython3",
   "version": "3.6.4"
  }
 },
 "nbformat": 4,
 "nbformat_minor": 2
}
