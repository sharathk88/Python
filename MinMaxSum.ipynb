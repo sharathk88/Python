{
 "cells": [
  {
   "cell_type": "code",
   "execution_count": 58,
   "metadata": {},
   "outputs": [],
   "source": [
    "#!/bin/python3\n",
    "\n",
    "import math\n",
    "import os\n",
    "import random\n",
    "import re\n",
    "import sys\n",
    "\n",
    "# Complete the miniMaxSum function below.\n",
    "def miniMaxSum(arr):\n",
    "    newarr=[]\n",
    "    outputarr = []\n",
    "    for i in range(len(arr)):\n",
    "        #print('i is:',i)\n",
    "        sum = 0\n",
    "        for j in range(len(arr)):\n",
    "            #print('j is:',j)\n",
    "            if(i==j):\n",
    "                sum = sum+0\n",
    "            else:\n",
    "                sum = sum+arr[j]\n",
    "        #print('sum is:',sum)\n",
    "        newarr.append(sum)\n",
    "    #print('max sum is:',max(newarr))\n",
    "    #print('min sum is:',min(newarr))\n",
    "    outputarr.append(min(newarr))\n",
    "    outputarr.append(max(newarr))\n",
    "    print(min(newarr), max(newarr))\n",
    "   \n",
    "   \n",
    "    \n",
    "    \n",
    "        "
   ]
  },
  {
   "cell_type": "code",
   "execution_count": 59,
   "metadata": {},
   "outputs": [
    {
     "name": "stdout",
     "output_type": "stream",
     "text": [
      "10 14\n"
     ]
    }
   ],
   "source": [
    "miniMaxSum([1,2,3,4,5])"
   ]
  },
  {
   "cell_type": "code",
   "execution_count": null,
   "metadata": {},
   "outputs": [],
   "source": [
    "#!/bin/python3\n",
    "\n",
    "import math\n",
    "import os\n",
    "import random\n",
    "import re\n",
    "import sys\n",
    "\n",
    "# Complete the miniMaxSum function below.\n",
    "def miniMaxSum(arr):\n",
    "    sum = 0\n",
    "    newarr = []\n",
    "    for i in range(len(arr)):\n",
    "        for j in range(len(arr)):\n",
    "            if(i==j):\n",
    "                sum = sum + 0\n",
    "            else:\n",
    "                sum = sum + arr[j]\n",
    "            newarr[j] = sum\n",
    "        return newarr\n",
    "        "
   ]
  }
 ],
 "metadata": {
  "kernelspec": {
   "display_name": "Python 3",
   "language": "python",
   "name": "python3"
  },
  "language_info": {
   "codemirror_mode": {
    "name": "ipython",
    "version": 3
   },
   "file_extension": ".py",
   "mimetype": "text/x-python",
   "name": "python",
   "nbconvert_exporter": "python",
   "pygments_lexer": "ipython3",
   "version": "3.6.4"
  }
 },
 "nbformat": 4,
 "nbformat_minor": 2
}
