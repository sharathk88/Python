{
 "cells": [
  {
   "cell_type": "code",
   "execution_count": 1,
   "metadata": {},
   "outputs": [],
   "source": [
    "def is_isogram(inpstr):\n",
    "    ctr = 0\n",
    "    string = inpstr.lower()\n",
    "    string = string.replace(\"-\",\"\")\n",
    "    string = string.replace(\"_\",\"\")\n",
    "    string = string.replace(\" \",\"\")\n",
    "    for i in range(len(string)):\n",
    "        print('i',i)\n",
    "        for j in range(i+1,len(string)):\n",
    "            #print('j',j)\n",
    "            if (string[i]==string[j]):\n",
    "               ctr += 1\n",
    "            elif(string[i]!=string[j]): \n",
    "               ctr += 0\n",
    "    #print(ctr)\n",
    "    if(ctr==0):\n",
    "        return True\n",
    "    else:\n",
    "        return False\n",
    "\n"
   ]
  },
  {
   "cell_type": "code",
   "execution_count": null,
   "metadata": {
    "collapsed": true
   },
   "outputs": [],
   "source": [
    "is_isogram()"
   ]
  },
  {
   "cell_type": "code",
   "execution_count": 2,
   "metadata": {},
   "outputs": [
    {
     "name": "stdout",
     "output_type": "stream",
     "text": [
      "i 0\n",
      "i 1\n",
      "i 2\n",
      "i 3\n",
      "i 4\n",
      "i 5\n",
      "i 6\n",
      "i 7\n",
      "i 8\n"
     ]
    },
    {
     "data": {
      "text/plain": [
       "True"
      ]
     },
     "execution_count": 2,
     "metadata": {},
     "output_type": "execute_result"
    }
   ],
   "source": [
    "is_isogram('abc def ghi')"
   ]
  },
  {
   "cell_type": "code",
   "execution_count": null,
   "metadata": {},
   "outputs": [],
   "source": [
    "        print(ctr)\n",
    "    if(ctr==0):\n",
    "        return True\n",
    "    else:\n",
    "        return False\n",
    "    \n",
    "    "
   ]
  },
  {
   "cell_type": "code",
   "execution_count": null,
   "metadata": {},
   "outputs": [],
   "source": [
    "def is_isogram(inpstr):\n",
    "    ctr = 0\n",
    "    string = inpstr.lower()\n",
    "    for i in range(len(string)):\n",
    "        #print('i',i)\n",
    "        for j in range(i+1,len(string)):\n",
    "            #print('j',j)\n",
    "            if (string[i]==string[j] and string[i]!=('_') and string[j]!=('_') and  string[i]!=('-') and string[j]!=('-') and  string[i]!=(' ') and string[j]!=(' ') ):\n",
    "               ctr += 1\n",
    "            elif(string[i]!=string[j]): \n",
    "               ctr += 0\n",
    "    #print(ctr)\n",
    "    if(ctr==0):\n",
    "        return True\n",
    "    else:\n",
    "        return False\n"
   ]
  }
 ],
 "metadata": {
  "kernelspec": {
   "display_name": "Python 3",
   "language": "python",
   "name": "python3"
  },
  "language_info": {
   "codemirror_mode": {
    "name": "ipython",
    "version": 3
   },
   "file_extension": ".py",
   "mimetype": "text/x-python",
   "name": "python",
   "nbconvert_exporter": "python",
   "pygments_lexer": "ipython3",
   "version": "3.6.4"
  }
 },
 "nbformat": 4,
 "nbformat_minor": 2
}
