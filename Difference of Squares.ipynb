{
 "cells": [
  {
   "cell_type": "code",
   "execution_count": 36,
   "metadata": {},
   "outputs": [],
   "source": [
    "def square_of_sum(count):\n",
    "    sqsum = 0\n",
    "    for i in range(count+1):\n",
    "        sqsum += i\n",
    "    return sqsum**2\n",
    "\n",
    "\n",
    "def sum_of_squares(count):\n",
    "    sumsq = 0\n",
    "    for i in range(count+1):\n",
    "        sumsq = sumsq + i**2\n",
    "    return sumsq\n",
    "        \n",
    "\n",
    "\n",
    "def difference(count):\n",
    "    return square_of_sum(count) - sum_of_squares(count)\n"
   ]
  },
  {
   "cell_type": "code",
   "execution_count": 79,
   "metadata": {},
   "outputs": [
    {
     "data": {
      "text/plain": [
       "34"
      ]
     },
     "execution_count": 79,
     "metadata": {},
     "output_type": "execute_result"
    }
   ],
   "source": [
    "sum_of_squares(3)"
   ]
  },
  {
   "cell_type": "code",
   "execution_count": 65,
   "metadata": {},
   "outputs": [
    {
     "data": {
      "text/plain": [
       "6"
      ]
     },
     "execution_count": 65,
     "metadata": {},
     "output_type": "execute_result"
    }
   ],
   "source": [
    "square_of_sum(3)"
   ]
  },
  {
   "cell_type": "code",
   "execution_count": 37,
   "metadata": {},
   "outputs": [
    {
     "name": "stdout",
     "output_type": "stream",
     "text": [
      "6\n",
      "14\n"
     ]
    },
    {
     "data": {
      "text/plain": [
       "22"
      ]
     },
     "execution_count": 37,
     "metadata": {},
     "output_type": "execute_result"
    }
   ],
   "source": [
    "difference(3)"
   ]
  },
  {
   "cell_type": "code",
   "execution_count": 78,
   "metadata": {},
   "outputs": [],
   "source": [
    "from functools import reduce\n",
    "\n",
    "def square_of_sum(count):\n",
    "    return  reduce((lambda x,y:x+y), range(1,count+1))**2\n",
    "\n",
    "def sum_of_squares(count):\n",
    "    return  reduce(lambda x,y:(x**2)+(y**2), range(1,count+1))\n",
    "        \n",
    "\n",
    "\n",
    "def difference(count):\n",
    "    return square_of_sum(count) - sum_of_squares(count)"
   ]
  }
 ],
 "metadata": {
  "kernelspec": {
   "display_name": "Python 3",
   "language": "python",
   "name": "python3"
  },
  "language_info": {
   "codemirror_mode": {
    "name": "ipython",
    "version": 3
   },
   "file_extension": ".py",
   "mimetype": "text/x-python",
   "name": "python",
   "nbconvert_exporter": "python",
   "pygments_lexer": "ipython3",
   "version": "3.6.4"
  }
 },
 "nbformat": 4,
 "nbformat_minor": 2
}
