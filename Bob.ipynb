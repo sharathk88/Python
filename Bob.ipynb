{
 "cells": [
  {
   "cell_type": "code",
   "execution_count": 62,
   "metadata": {},
   "outputs": [],
   "source": [
    "def hey(phrase):\n",
    "    phrase=phrase.replace(\",\",\"\")\n",
    "    phrase=phrase.replace(\" \",\"\")\n",
    "    phrase=phrase.replace(\".\",\"\")\n",
    "    phrase=phrase.replace(\":\",\"\")\n",
    "    def hasNumbers(inputString):\n",
    "        return any(char.isdigit() for char in inputString)\n",
    "    if(phrase!=phrase.lower() and phrase!=phrase.upper()):\n",
    "        if(hasNumbers(phrase) and not(phrase.endswith('?'))):\n",
    "            return('Whatever.')\n",
    "        elif(phrase.startswith(\" \") or phrase.endswith(\" \")):\n",
    "            return('Whatever.')\n",
    "        elif(phrase.endswith('?') and hasNumbers(phrase)):\n",
    "            return('Sure.')\n",
    "        elif(phrase.endswith('!')):\n",
    "            return('Whatever.')\n",
    "    elif(phrase.isupper()):\n",
    "        if(phrase.endswith('!')):\n",
    "            return('Whoa, chill out!')\n",
    "        elif(phrase.endswith('?')):\n",
    "            return('Calm down, I know what I\\'m doing!')\n",
    "        else:\n",
    "            return('Whoa, chill out!')\n",
    "    elif (phrase.isnumeric()):\n",
    "        return('Whatever.')\n",
    "    else:\n",
    "        return('Fine. Be that way!')\n",
    "        \n"
   ]
  },
  {
   "cell_type": "code",
   "execution_count": 60,
   "metadata": {},
   "outputs": [],
   "source": [
    "hey(\"Okay if like my  spacebar  quite a bit?   \")"
   ]
  },
  {
   "cell_type": "code",
   "execution_count": 61,
   "metadata": {},
   "outputs": [
    {
     "name": "stdout",
     "output_type": "stream",
     "text": [
      "camel False\n",
      "camelCase True\n",
      "CamelCase True\n",
      "CAMELCASE False\n",
      "camelcase False\n",
      "Camelcase True\n",
      "Case True\n"
     ]
    }
   ],
   "source": [
    "def camel(s):\n",
    "    return (s != s.lower() and s != s.upper())\n",
    "\n",
    "tests = [\n",
    "        \"camel\",\n",
    "        \"camelCase\",\n",
    "        \"CamelCase\",\n",
    "        \"CAMELCASE\",\n",
    "        \"camelcase\",\n",
    "        \"Camelcase\",\n",
    "        \"Case\"\n",
    "        ]\n",
    "\n",
    "for test in tests:\n",
    "    print(test, camel(test))"
   ]
  },
  {
   "cell_type": "code",
   "execution_count": 41,
   "metadata": {},
   "outputs": [],
   "source": [
    "def hey(phrase):\n",
    "    phrase=phrase.replace(\",\",\"\")\n",
    "    phrase=phrase.replace(\" \",\"\")\n",
    "    phrase=phrase.replace(\".\",\"\")\n",
    "    print(phrase)\n",
    "    "
   ]
  },
  {
   "cell_type": "code",
   "execution_count": 42,
   "metadata": {},
   "outputs": [
    {
     "name": "stdout",
     "output_type": "stream",
     "text": [
      "123\n"
     ]
    }
   ],
   "source": [
    "hey(\"1, 2, 3\")"
   ]
  },
  {
   "cell_type": "code",
   "execution_count": null,
   "metadata": {},
   "outputs": [],
   "source": []
  }
 ],
 "metadata": {
  "kernelspec": {
   "display_name": "Python 3",
   "language": "python",
   "name": "python3"
  },
  "language_info": {
   "codemirror_mode": {
    "name": "ipython",
    "version": 3
   },
   "file_extension": ".py",
   "mimetype": "text/x-python",
   "name": "python",
   "nbconvert_exporter": "python",
   "pygments_lexer": "ipython3",
   "version": "3.6.4"
  }
 },
 "nbformat": 4,
 "nbformat_minor": 2
}
