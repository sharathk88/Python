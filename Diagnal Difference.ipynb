{
 "cells": [
  {
   "cell_type": "code",
   "execution_count": 8,
   "metadata": {},
   "outputs": [],
   "source": [
    "import math\n",
    "import sys\n",
    "\n",
    "a =[]\n",
    "def diagnalDifference(a):\n",
    "\n",
    "    sumdiag1 = 0\n",
    "    sumdiag2 = 0\n",
    "    numrows=len(a)\n",
    "    numcols=len(a[0])\n",
    "    for i in range(0,numrows):\n",
    "        for j in range(0,numcols):\n",
    "            if(i==j):\n",
    "                sumdiag1 = sumdiag1+a[i][j]\n",
    "                #print('first diagnal',a[i][j])\n",
    "            else:\n",
    "                if((numrows == numcols) and (i+j == numrows-1)):\n",
    "                        sumdiag2 = sumdiag2+a[i][j]\n",
    "                        #print('Second diagnal',a[i][j])\n",
    "    print(sumdiag1)\n",
    "    print(sumdiag2)\n",
    "                    \n",
    "            "
   ]
  },
  {
   "cell_type": "code",
   "execution_count": 9,
   "metadata": {},
   "outputs": [
    {
     "name": "stdout",
     "output_type": "stream",
     "text": [
      "4\n",
      "14\n"
     ]
    }
   ],
   "source": [
    "diagnalDifference([[11,2,4],[4,5,6],[10,8,-12]])"
   ]
  }
 ],
 "metadata": {
  "kernelspec": {
   "display_name": "Python 3",
   "language": "python",
   "name": "python3"
  },
  "language_info": {
   "codemirror_mode": {
    "name": "ipython",
    "version": 3
   },
   "file_extension": ".py",
   "mimetype": "text/x-python",
   "name": "python",
   "nbconvert_exporter": "python",
   "pygments_lexer": "ipython3",
   "version": "3.6.4"
  }
 },
 "nbformat": 4,
 "nbformat_minor": 2
}
