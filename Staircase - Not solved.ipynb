{
 "cells": [
  {
   "cell_type": "code",
   "execution_count": 34,
   "metadata": {},
   "outputs": [],
   "source": [
    "a=[' ',' ',' ',' ',' ',' ']\n",
    "def staircase(n):\n",
    "    j=n-1\n",
    "    while j>=0:\n",
    "        a[j]=('#')\n",
    "        print(a)\n",
    "        print('\\n')\n",
    "        j=j-1\n"
   ]
  },
  {
   "cell_type": "code",
   "execution_count": 35,
   "metadata": {},
   "outputs": [
    {
     "name": "stdout",
     "output_type": "stream",
     "text": [
      "[' ', ' ', ' ', ' ', ' ', '#']\n",
      "\n",
      "\n",
      "[' ', ' ', ' ', ' ', '#', '#']\n",
      "\n",
      "\n",
      "[' ', ' ', ' ', '#', '#', '#']\n",
      "\n",
      "\n",
      "[' ', ' ', '#', '#', '#', '#']\n",
      "\n",
      "\n",
      "[' ', '#', '#', '#', '#', '#']\n",
      "\n",
      "\n",
      "['#', '#', '#', '#', '#', '#']\n",
      "\n",
      "\n"
     ]
    }
   ],
   "source": [
    "staircase(6)"
   ]
  },
  {
   "cell_type": "code",
   "execution_count": 39,
   "metadata": {},
   "outputs": [],
   "source": [
    "a=[' ',' ',' ',' ',' ',' ']\n",
    "def staircase(n):\n",
    "    j=n-1\n",
    "    while j>=0:\n",
    "        a[j]=('#')\n",
    "        print(a[j])\n",
    "        print('\\n')\n",
    "        j=j-1\n"
   ]
  },
  {
   "cell_type": "code",
   "execution_count": 40,
   "metadata": {},
   "outputs": [
    {
     "name": "stdout",
     "output_type": "stream",
     "text": [
      "#\n",
      "\n",
      "\n",
      "#\n",
      "\n",
      "\n",
      "#\n",
      "\n",
      "\n",
      "#\n",
      "\n",
      "\n",
      "#\n",
      "\n",
      "\n"
     ]
    }
   ],
   "source": [
    "staircase(5)"
   ]
  }
 ],
 "metadata": {
  "kernelspec": {
   "display_name": "Python 3",
   "language": "python",
   "name": "python3"
  },
  "language_info": {
   "codemirror_mode": {
    "name": "ipython",
    "version": 3
   },
   "file_extension": ".py",
   "mimetype": "text/x-python",
   "name": "python",
   "nbconvert_exporter": "python",
   "pygments_lexer": "ipython3",
   "version": "3.6.4"
  }
 },
 "nbformat": 4,
 "nbformat_minor": 2
}
