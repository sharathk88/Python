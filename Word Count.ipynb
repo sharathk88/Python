{
 "cells": [
  {
   "cell_type": "code",
   "execution_count": 1,
   "metadata": {},
   "outputs": [],
   "source": [
    "def word_count(phrase):\n",
    "    #count=dict{'Phrase':phrase,'Count':1}\n",
    "    count=dict(enumerate(phrase))\n",
    "    \n",
    "    for i in range(len(phrase)):\n",
    "        count['Phrase']\n"
   ]
  },
  {
   "cell_type": "code",
   "execution_count": 7,
   "metadata": {},
   "outputs": [],
   "source": [
    "count = {'Phrase': phrase ,'Count': ''}"
   ]
  },
  {
   "cell_type": "code",
   "execution_count": 8,
   "metadata": {},
   "outputs": [
    {
     "data": {
      "text/plain": [
       "'Sharath'"
      ]
     },
     "execution_count": 8,
     "metadata": {},
     "output_type": "execute_result"
    }
   ],
   "source": [
    "count['Phrase']"
   ]
  },
  {
   "cell_type": "code",
   "execution_count": 75,
   "metadata": {},
   "outputs": [],
   "source": [
    "def word_count(phrase):\n",
    "    phrase = phrase.split()\n",
    "    count=dict(enumerate(phrase))\n",
    "    counter = 1\n",
    "    print(len(phrase))\n",
    "    print(count)\n",
    "    for i in range(len(phrase)):\n",
    "        #print('i is',i)\n",
    "        for j in range(len(phrase)):\n",
    "            #print('j is',j)\n",
    "            if(count[i]==count[j]):\n",
    "                #print(count[i])\n",
    "                #print(count[j])\n",
    "                counter = counter + 1\n",
    "            else:\n",
    "                counter = 0\n",
    "            print(count[i],counter)\n",
    "    "
   ]
  },
  {
   "cell_type": "code",
   "execution_count": 76,
   "metadata": {},
   "outputs": [
    {
     "name": "stdout",
     "output_type": "stream",
     "text": [
      "4\n",
      "{0: 'sharath', 1: 'sharath', 2: 'i', 3: 'am'}\n",
      "sharath 2\n",
      "sharath 3\n",
      "sharath 0\n",
      "sharath 0\n",
      "sharath 1\n",
      "sharath 2\n",
      "sharath 0\n",
      "sharath 0\n",
      "i 0\n",
      "i 0\n",
      "i 1\n",
      "i 0\n",
      "am 0\n",
      "am 0\n",
      "am 0\n",
      "am 1\n"
     ]
    }
   ],
   "source": [
    "word_count('sharath sharath i am')"
   ]
  },
  {
   "cell_type": "code",
   "execution_count": null,
   "metadata": {},
   "outputs": [],
   "source": [
    "def word_count(phrase):\n",
    "    phrase = phrase.split()\n",
    "    phrase = list(phrase)\n",
    "    print(phrase)\n",
    "    count = []\n",
    "    for i in range(len(phrase)):\n",
    "        for j in range(len(phrase)):\n",
    "            if(phrase[i]==phrase[j]):\n",
    "                count[i] += 1\n",
    "                print(count)\n",
    "\n",
    "    "
   ]
  },
  {
   "cell_type": "code",
   "execution_count": null,
   "metadata": {},
   "outputs": [],
   "source": []
  }
 ],
 "metadata": {
  "kernelspec": {
   "display_name": "Python 3",
   "language": "python",
   "name": "python3"
  },
  "language_info": {
   "codemirror_mode": {
    "name": "ipython",
    "version": 3
   },
   "file_extension": ".py",
   "mimetype": "text/x-python",
   "name": "python",
   "nbconvert_exporter": "python",
   "pygments_lexer": "ipython3",
   "version": "3.6.4"
  }
 },
 "nbformat": 4,
 "nbformat_minor": 2
}
