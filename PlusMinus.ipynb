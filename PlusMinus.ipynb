{
 "cells": [
  {
   "cell_type": "code",
   "execution_count": 28,
   "metadata": {},
   "outputs": [],
   "source": [
    "# Complete the plusMinus function below.\n",
    "def plusMinus(arr):\n",
    "    positive = 0\n",
    "    negative= 0\n",
    "    zero = 0\n",
    "    for i in range(len(arr)):\n",
    "        if(arr[i]<0):\n",
    "            negative=negative+1\n",
    "            \n",
    "        elif(arr[i]>0):\n",
    "            positive = positive+1\n",
    "            \n",
    "        else:\n",
    "            zero=zero+1\n",
    "    print(positive/(len(arr)))\n",
    "    print(negative/(len(arr)))\n",
    "    print(zero/(len(arr)))"
   ]
  },
  {
   "cell_type": "code",
   "execution_count": 29,
   "metadata": {},
   "outputs": [
    {
     "name": "stdout",
     "output_type": "stream",
     "text": [
      "0.5\n",
      "0.3333333333333333\n",
      "0.16666666666666666\n"
     ]
    }
   ],
   "source": [
    "plusMinus([-4,3,-9,0,4,1])"
   ]
  }
 ],
 "metadata": {
  "kernelspec": {
   "display_name": "Python 3",
   "language": "python",
   "name": "python3"
  },
  "language_info": {
   "codemirror_mode": {
    "name": "ipython",
    "version": 3
   },
   "file_extension": ".py",
   "mimetype": "text/x-python",
   "name": "python",
   "nbconvert_exporter": "python",
   "pygments_lexer": "ipython3",
   "version": "3.6.4"
  }
 },
 "nbformat": 4,
 "nbformat_minor": 2
}
