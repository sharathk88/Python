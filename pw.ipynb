{
 "cells": [
  {
   "cell_type": "code",
   "execution_count": 2,
   "metadata": {},
   "outputs": [
    {
     "name": "stdout",
     "output_type": "stream",
     "text": [
      "There is no account named-f\n"
     ]
    }
   ],
   "source": [
    "#! python 3\n",
    "#pw.py - An insecure password locker program\n",
    "\n",
    "PASSWORDS = {'ES1':'happywinter@336','ET1':'happywinter@336'}\n",
    "\n",
    "import sys\n",
    "if(len(sys.argv)<2):\n",
    "    print('Usage: python pw.py[account] - copy account password')\n",
    "    sys.exit()\n",
    "    \n",
    "account = sys.argv[1]    \n",
    "\n",
    "if(account in PASSWORDS):\n",
    "    pyperclip.copy(PASSWORDS[account])\n",
    "    print('Password for '+ account +' copied to clipboard.')\n",
    "else:\n",
    "    print('There is no account named'+ account)\n",
    "    \n"
   ]
  },
  {
   "cell_type": "code",
   "execution_count": null,
   "metadata": {},
   "outputs": [],
   "source": []
  },
  {
   "cell_type": "code",
   "execution_count": null,
   "metadata": {},
   "outputs": [],
   "source": []
  }
 ],
 "metadata": {
  "kernelspec": {
   "display_name": "Python 3",
   "language": "python",
   "name": "python3"
  },
  "language_info": {
   "codemirror_mode": {
    "name": "ipython",
    "version": 3
   },
   "file_extension": ".py",
   "mimetype": "text/x-python",
   "name": "python",
   "nbconvert_exporter": "python",
   "pygments_lexer": "ipython3",
   "version": "3.6.4"
  }
 },
 "nbformat": 4,
 "nbformat_minor": 2
}
